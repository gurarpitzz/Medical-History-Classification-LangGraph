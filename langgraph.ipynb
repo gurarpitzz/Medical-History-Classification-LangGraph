{
  "nbformat": 4,
  "nbformat_minor": 0,
  "metadata": {
    "colab": {
      "provenance": []
    },
    "kernelspec": {
      "name": "python3",
      "display_name": "Python 3"
    },
    "language_info": {
      "name": "python"
    }
  },
  "cells": [
    {
      "cell_type": "markdown",
      "source": [
        "# STEP 0: Install dependencies"
      ],
      "metadata": {
        "id": "K3yWWtQ8cC4i"
      }
    },
    {
      "cell_type": "code",
      "source": [
        "!pip install -qu google-generativeai==0.8.5 google-ai-generativelanguage==0.6.15\\\n",
        "langgrapgh langchain langchahan-google-genai-genai openai"
      ],
      "metadata": {
        "id": "gerLPjDkChes"
      },
      "execution_count": null,
      "outputs": []
    },
    {
      "cell_type": "code",
      "source": [
        "\n",
        "!pip install langgraph langchain langchain-core\n",
        "!pip install langchain-google-genai\n",
        "\n"
      ],
      "metadata": {
        "id": "BFXqQZ-AEdoV"
      },
      "execution_count": null,
      "outputs": []
    },
    {
      "cell_type": "markdown",
      "source": [
        "# STEP 1: Imports and secure API key input"
      ],
      "metadata": {
        "id": "XvoFPl11cFhj"
      }
    },
    {
      "cell_type": "code",
      "source": [
        "import os\n",
        "import getpass #enable us to get pass to apikey noone will see apikey\n",
        "from langgraph.graph import StateGraph, END\n",
        "from langchain_google_genai import ChatGoogleGenerativeAI\n",
        "\n",
        "from langchain_core.messages import HumanMessage"
      ],
      "metadata": {
        "id": "q-tketPWDHr1"
      },
      "execution_count": null,
      "outputs": []
    },
    {
      "cell_type": "markdown",
      "source": [
        "\n",
        "# Secure Gemini API Key input"
      ],
      "metadata": {
        "id": "W28u20SxcIiH"
      }
    },
    {
      "cell_type": "code",
      "source": [
        "os.environ['Google_API_KEY']=getpass.getpass('Enter Google API Key: ')"
      ],
      "metadata": {
        "id": "rvelkYV4GIfr"
      },
      "execution_count": null,
      "outputs": []
    },
    {
      "cell_type": "markdown",
      "source": [
        "# STEP 2: Initialize Gemini 1.5 Flash"
      ],
      "metadata": {
        "id": "eusINPuVcLXp"
      }
    },
    {
      "cell_type": "code",
      "source": [
        "llm=ChatGoogleGenerativeAI(model= \"model/gemini-1.5-flash-latest\", temperature=0.2)#temperature will controll the randomness of llm. HIGHER=CREATIVE, LOWER=REPETITIVE"
      ],
      "metadata": {
        "id": "ul1jHKujGwCW"
      },
      "execution_count": null,
      "outputs": []
    },
    {
      "cell_type": "markdown",
      "source": [
        "# STEP 3: Node to ask user for symptom"
      ],
      "metadata": {
        "id": "o07zbkLWcOVW"
      }
    },
    {
      "cell_type": "code",
      "source": [
        "def get_symptom(state:dict)-> dict:\n",
        "  symptom= input(\"Welcome to Dr. Singh Hospital, Please let us know your symptoms\")\n",
        "  state['symptom']=symptom\n",
        "  return state"
      ],
      "metadata": {
        "id": "uLQvkW4iVluu"
      },
      "execution_count": null,
      "outputs": []
    },
    {
      "cell_type": "markdown",
      "source": [
        "# STEP 4: Node to classify the symptom"
      ],
      "metadata": {
        "id": "0KIzyYPVcRVm"
      }
    },
    {
      "cell_type": "code",
      "source": [
        "def classify_symptom(state:dict)-> dict:\n",
        "  prompt=(\n",
        "      \"You are a helpful medical Assistant, Classify the symptoms below into below one of the categores\\n\"\n",
        "      \"-General\\n -Emergency n\\ -mental health \\n\"\n",
        "      f\"symptom :{state['symptom']} \\n\"\n",
        "      \"Respond only with one word : General, Emergency or Mental Health\"\n",
        "      \"#Example : input: I have fever, output: General\"\n",
        "\n",
        "  )\n",
        "  response=llm.invoke([HumanMessage(content=prompt)])\n",
        "  category= response.content.strip() #taking message from the llm into STRING format\n",
        "  print(f\"LLM classify the sympotom as :{category}\") #debug\n",
        "  state['category']=category\n",
        "  return state"
      ],
      "metadata": {
        "id": "zebfANMoJqIu"
      },
      "execution_count": null,
      "outputs": []
    },
    {
      "cell_type": "markdown",
      "source": [
        "# STEP 5: Router logic to route to the correct node\n"
      ],
      "metadata": {
        "id": "kESmxbnicWpS"
      }
    },
    {
      "cell_type": "code",
      "source": [
        "\n",
        "def symptom_router(state:dict)-> dict:\n",
        "  category = state['category'].lower()\n",
        "  if category == 'Emergency':\n",
        "    return 'Emergency'\n",
        "  elif category == 'Mental Health':\n",
        "    return 'Mental Health'\n",
        "  else:\n",
        "    return 'General'"
      ],
      "metadata": {
        "id": "8kyPN7nxNaAk"
      },
      "execution_count": null,
      "outputs": []
    },
    {
      "cell_type": "markdown",
      "source": [
        "# STEP 6: Category-specific response nodes\n"
      ],
      "metadata": {
        "id": "cZuR4VGscake"
      }
    },
    {
      "cell_type": "code",
      "source": [
        "def general_node(state:dict)-> dict:\n",
        "  state[\"answer\"]=f\"'{state['symptom']}': seems general : directing you to the general ward for consulting a doctor\"\n",
        "  return state\n",
        "\n",
        "def emergency_node(state:dict)-> dict:\n",
        "  state[\"answer\"]=f\"'{state['symptom']}': seems urgent medical emergency : directing you to the emergency ward for consulting a doctor\"\n",
        "  return state\n",
        "\n",
        "def mental_health_node(state:dict)-> dict:\n",
        "  state[\"answer\"]=f\"'{state['symptom']}': seems mental heath issue : directing you to the mental health ward for consulting a doctor\"\n",
        "  return state"
      ],
      "metadata": {
        "id": "INHPR7iiOfOt"
      },
      "execution_count": null,
      "outputs": []
    },
    {
      "cell_type": "markdown",
      "source": [
        "# STEP 7: Build LangGraph\n"
      ],
      "metadata": {
        "id": "I1ek0SwzcehS"
      }
    },
    {
      "cell_type": "code",
      "source": [
        "builder= StateGraph(dict)\n",
        "\n",
        "#define the nodes\n",
        "builder.set_entry_point(\"get_symptom\")\n",
        "builder.add_node(\"get_symptom\",get_symptom)\n",
        "builder.add_node(\"classify_symptom\",classify_symptom)\n",
        "builder.add_node(\"general\",general_node)\n",
        "builder.add_node(\"Emergency\",emergency_node)\n",
        "builder.add_node(\"Mental Health\",mental_health_node)\n",
        "\n",
        "builder.add_edge(\"get_symptom\",\"classify_symptom\")\n",
        "builder.add_conditional_edges(\"classify_symptom\",symptom_router,{\n",
        "    \"General\": \"general\",\n",
        "    \"Emergency\": \"Emergency\",\n",
        "    \"Mental Health\": \"Mental Health\"\n",
        "})\n",
        "\n",
        "builder.add_edge(\"general\",END)\n",
        "builder.add_edge(\"Emergency\",END)\n",
        "builder.add_edge(\"Mental Health\",END)\n",
        "\n"
      ],
      "metadata": {
        "id": "q9UnB-4iPmPu"
      },
      "execution_count": null,
      "outputs": []
    },
    {
      "cell_type": "markdown",
      "source": [
        "# STEP 8: Compile and invoke the graph\n"
      ],
      "metadata": {
        "id": "GbAgCeZYci5k"
      }
    },
    {
      "cell_type": "code",
      "metadata": {
        "id": "af59589c"
      },
      "source": [
        "# Define the initial state (inputs)\n",
        "initial_state = {\"symptom\": \"I have a headache and a sore throat.\"}\n",
        "\n",
        "\n",
        "# Invoke the graph\n",
        "output = graph.invoke(initial_state)\n",
        "\n",
        "\n",
        "# Print the final state\n",
        "print(\"final output: \\n\")\n",
        "print(output[\"answer\"])"
      ],
      "execution_count": null,
      "outputs": []
    }
  ]
}